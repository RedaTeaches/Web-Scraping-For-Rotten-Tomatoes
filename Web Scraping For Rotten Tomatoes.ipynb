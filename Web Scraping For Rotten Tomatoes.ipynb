{
 "cells": [
  {
   "cell_type": "markdown",
   "metadata": {},
   "source": [
    "# Set-up"
   ]
  },
  {
   "cell_type": "code",
   "execution_count": 1,
   "metadata": {},
   "outputs": [],
   "source": [
    "# load packages\n",
    "import requests\n",
    "from bs4 import BeautifulSoup"
   ]
  },
  {
   "cell_type": "code",
   "execution_count": 2,
   "metadata": {},
   "outputs": [],
   "source": [
    "# Define the URL of the site\n",
    "base_site = \"https://editorial.rottentomatoes.com/guide/140-essential-action-movies-to-watch-now\""
   ]
  },
  {
   "cell_type": "code",
   "execution_count": 3,
   "metadata": {},
   "outputs": [
    {
     "data": {
      "text/plain": [
       "200"
      ]
     },
     "execution_count": 3,
     "metadata": {},
     "output_type": "execute_result"
    }
   ],
   "source": [
    "# sending a request to the webpage\n",
    "response = requests.get(base_site)\n",
    "response.status_code"
   ]
  },
  {
   "cell_type": "code",
   "execution_count": 4,
   "metadata": {},
   "outputs": [],
   "source": [
    "# get the HTML from the webpage\n",
    "html = response.content"
   ]
  },
  {
   "cell_type": "markdown",
   "metadata": {},
   "source": [
    "## Choosing a parser"
   ]
  },
  {
   "cell_type": "markdown",
   "metadata": {},
   "source": [
    "### html.parser"
   ]
  },
  {
   "cell_type": "code",
   "execution_count": 5,
   "metadata": {},
   "outputs": [],
   "source": [
    "# convert the HTML to a Beautiful Soup object\n",
    "soup = BeautifulSoup(html, 'html.parser')"
   ]
  },
  {
   "cell_type": "code",
   "execution_count": 6,
   "metadata": {},
   "outputs": [],
   "source": [
    "# Exporting the HTML to a file\n",
    "with open('Rotten_tomatoes_page_2_HTML_Parser.html', 'wb') as file:\n",
    "    file.write(soup.prettify('utf-8'))"
   ]
  },
  {
   "cell_type": "code",
   "execution_count": 7,
   "metadata": {},
   "outputs": [],
   "source": [
    "# When inspecting the file we see that HTML element is closed at the begining -- it parsed incorrectly!\n",
    "# Let's check another parser"
   ]
  },
  {
   "cell_type": "markdown",
   "metadata": {},
   "source": [
    "### lxml"
   ]
  },
  {
   "cell_type": "code",
   "execution_count": 8,
   "metadata": {},
   "outputs": [],
   "source": [
    "# convert the HTML to a BeatifulSoup object\n",
    "soup = BeautifulSoup(html, 'lxml')"
   ]
  },
  {
   "cell_type": "code",
   "execution_count": 9,
   "metadata": {},
   "outputs": [],
   "source": [
    "# Exporting the HTML to a file\n",
    "with open('Rotten_tomatoes_page_2_LXML_Parser.html', 'wb') as file:\n",
    "    file.write(soup.prettify('utf-8'))"
   ]
  },
  {
   "cell_type": "code",
   "execution_count": 10,
   "metadata": {},
   "outputs": [],
   "source": [
    "# By first accounts of inspecting the file everything seems fine"
   ]
  },
  {
   "cell_type": "markdown",
   "metadata": {},
   "source": [
    "### A word of caution"
   ]
  },
  {
   "cell_type": "code",
   "execution_count": 11,
   "metadata": {},
   "outputs": [],
   "source": [
    "# Beautiful Soup ranks the lxml parser as the best one.\n",
    "\n",
    "# If a parser is not explicitly stated in the Beautiful Soup constructor,\n",
    "# the best one available on the current machine is chosen.\n",
    "\n",
    "# This means that the same piece of code can give different results on different computers."
   ]
  },
  {
   "cell_type": "markdown",
   "metadata": {},
   "source": [
    "# Obtining the element contaning all the data"
   ]
  },
  {
   "cell_type": "code",
   "execution_count": 12,
   "metadata": {},
   "outputs": [],
   "source": [
    "divs = soup.find_all('div',{'class' : 'col-sm-18 col-full-xs countdown-item-content'})\n",
    "#divs"
   ]
  },
  {
   "cell_type": "markdown",
   "metadata": {},
   "source": [
    "# Extracting the title and year of each movie"
   ]
  },
  {
   "cell_type": "code",
   "execution_count": 13,
   "metadata": {},
   "outputs": [],
   "source": [
    "headings = [div.find('h2') for div in divs]\n",
    "#headings"
   ]
  },
  {
   "cell_type": "code",
   "execution_count": 14,
   "metadata": {},
   "outputs": [
    {
     "data": {
      "text/plain": [
       "<h2><a href=\"https://www.rottentomatoes.com/m/1018009-running_scared\">Running Scared</a> <span class=\"subtle start-year\">(1986)</span> <span class=\"icon tiny rotten\" title=\"Rotten\"></span> <span class=\"tMeterScore\">59%</span><span class=\"span-icon-audience\"><img class=\"icon-audience\" height=\"16\" src=\"https://images.fandango.com/cms/assets/cf921970-d359-11ea-a15f-bdf29fa24277--spilled.png\" width=\"16\"/></span><span class=\"tMeterScore\">58%</span></h2>"
      ]
     },
     "execution_count": 14,
     "metadata": {},
     "output_type": "execute_result"
    }
   ],
   "source": [
    "headings[0]"
   ]
  },
  {
   "cell_type": "markdown",
   "metadata": {},
   "source": [
    "# Title"
   ]
  },
  {
   "cell_type": "code",
   "execution_count": 15,
   "metadata": {},
   "outputs": [],
   "source": [
    "movie_names = [heading.find('a').string for heading in headings]\n",
    "#movie_names"
   ]
  },
  {
   "cell_type": "markdown",
   "metadata": {},
   "source": [
    "# Year"
   ]
  },
  {
   "cell_type": "code",
   "execution_count": 16,
   "metadata": {},
   "outputs": [],
   "source": [
    "movie_years = [heading.find('span', class_ = 'subtle start-year').string for heading in headings]\n",
    "#movie_years"
   ]
  },
  {
   "cell_type": "markdown",
   "metadata": {},
   "source": [
    "# Removing the brackets"
   ]
  },
  {
   "cell_type": "code",
   "execution_count": 17,
   "metadata": {},
   "outputs": [],
   "source": [
    "movie_years = [year.strip('()') for year in movie_years]\n",
    "#movie_years"
   ]
  },
  {
   "cell_type": "code",
   "execution_count": 18,
   "metadata": {},
   "outputs": [],
   "source": [
    "movie_years = [int(year) for year in movie_years]\n",
    "#movie_years"
   ]
  },
  {
   "cell_type": "markdown",
   "metadata": {},
   "source": [
    "# Score \"TOMATOMETER\""
   ]
  },
  {
   "cell_type": "code",
   "execution_count": 19,
   "metadata": {},
   "outputs": [],
   "source": [
    "movie_st = [heading.find('span', class_ = 'tMeterScore').string for heading in headings]\n",
    "#movie_st"
   ]
  },
  {
   "cell_type": "markdown",
   "metadata": {},
   "source": [
    "# Score \"AUDIENCE\""
   ]
  },
  {
   "cell_type": "code",
   "execution_count": 20,
   "metadata": {},
   "outputs": [],
   "source": [
    "movie_sa = [heading.find('span', class_ = 'tMeterScore').find_next(\"span\").find_next(\"span\").string for heading in headings]\n",
    "#movie_sa"
   ]
  },
  {
   "cell_type": "markdown",
   "metadata": {},
   "source": [
    "# Directors"
   ]
  },
  {
   "cell_type": "code",
   "execution_count": 21,
   "metadata": {},
   "outputs": [],
   "source": [
    "directors = [div.find(\"div\" , class_ = 'info director') for div in divs]\n",
    "#directors"
   ]
  },
  {
   "cell_type": "code",
   "execution_count": 22,
   "metadata": {},
   "outputs": [],
   "source": [
    "directors_list = [director.find('a').string for director in directors]\n",
    "#directors_list"
   ]
  },
  {
   "cell_type": "markdown",
   "metadata": {},
   "source": [
    "# Starring"
   ]
  },
  {
   "cell_type": "code",
   "execution_count": 23,
   "metadata": {},
   "outputs": [
    {
     "data": {
      "text/plain": [
       "<div class=\"info cast\">\n",
       "<span class=\"descriptor\">Starring:</span> <a class=\"\" href=\"//www.rottentomatoes.com/celebrity/gregory_hines\">Gregory Hines</a>, <a class=\"\" href=\"//www.rottentomatoes.com/celebrity/billy_crystal\">Billy Crystal</a>, <a class=\"\" href=\"//www.rottentomatoes.com/celebrity/jimmy_smits\">Jimmy Smits</a>, <a class=\"\" href=\"//www.rottentomatoes.com/celebrity/steven_bauer\">Steven Bauer</a></div>"
      ]
     },
     "execution_count": 23,
     "metadata": {},
     "output_type": "execute_result"
    }
   ],
   "source": [
    "info_cast = [div.find(\"div\", class_ = \"info cast\") for div in divs]\n",
    "info_cast[0]"
   ]
  },
  {
   "cell_type": "code",
   "execution_count": 24,
   "metadata": {},
   "outputs": [
    {
     "data": {
      "text/plain": [
       "[<a class=\"\" href=\"//www.rottentomatoes.com/celebrity/gregory_hines\">Gregory Hines</a>,\n",
       " <a class=\"\" href=\"//www.rottentomatoes.com/celebrity/billy_crystal\">Billy Crystal</a>,\n",
       " <a class=\"\" href=\"//www.rottentomatoes.com/celebrity/jimmy_smits\">Jimmy Smits</a>,\n",
       " <a class=\"\" href=\"//www.rottentomatoes.com/celebrity/steven_bauer\">Steven Bauer</a>]"
      ]
     },
     "execution_count": 24,
     "metadata": {},
     "output_type": "execute_result"
    }
   ],
   "source": [
    "cast_links = info_cast[0].find_all('a')\n",
    "cast_links"
   ]
  },
  {
   "cell_type": "code",
   "execution_count": 25,
   "metadata": {},
   "outputs": [
    {
     "data": {
      "text/plain": [
       "['Gregory Hines', 'Billy Crystal', 'Jimmy Smits', 'Steven Bauer']"
      ]
     },
     "execution_count": 25,
     "metadata": {},
     "output_type": "execute_result"
    }
   ],
   "source": [
    "cast_names = [link.string for link in cast_links]\n",
    "cast_names"
   ]
  },
  {
   "cell_type": "code",
   "execution_count": 26,
   "metadata": {},
   "outputs": [
    {
     "data": {
      "text/plain": [
       "'Gregory Hines, Billy Crystal, Jimmy Smits, Steven Bauer'"
      ]
     },
     "execution_count": 26,
     "metadata": {},
     "output_type": "execute_result"
    }
   ],
   "source": [
    "cast = \", \".join(cast_names)\n",
    "cast"
   ]
  },
  {
   "cell_type": "markdown",
   "metadata": {},
   "source": [
    "# Using for loop"
   ]
  },
  {
   "cell_type": "code",
   "execution_count": 27,
   "metadata": {},
   "outputs": [
    {
     "data": {
      "text/plain": [
       "['Gregory Hines, Billy Crystal, Jimmy Smits, Steven Bauer',\n",
       " 'Christian Bale, Emily Watson, Taye Diggs, Angus Macfadyen',\n",
       " 'Jet Li, Tony Leung Chiu Wai, Maggie Cheung Man-yuk, Donnie Yen',\n",
       " 'Patrick Swayze, Kelly Lynch, Sam Elliott, Ben Gazzara',\n",
       " 'Denzel Washington, Chris Pine, Rosario Dawson, Kevin Dunn',\n",
       " 'Richard Roundtree, Moses Gunn, Christopher St. John, Charles Cioffi',\n",
       " 'Kim Ok-bin, Shin Ha-kyun, Sung-joon, Kim Seo-hyung',\n",
       " 'Christopher Lambert, Sean Connery, Roxanne Hart, Clancy Brown',\n",
       " 'Bruce Willis, Bonnie Bedelia, William Atherton, Reginald VelJohnson',\n",
       " 'Nicolas Cage, Diane Kruger, Justin Bartha, Sean Bean',\n",
       " 'Tony Jaa, Johnny Nguyen, Nathan Jones, Petchtai Wongkamlao',\n",
       " 'Matilda Lutz, Kevin Janssens, Vincent Colombe, Guillaume Bouchède',\n",
       " 'Carlos Gallardo, Consuelo Gómez, Reinol Martinez, Peter Marquardt',\n",
       " 'Feng Hsu, Chun Shih, Pai Ying, Roy Chiao',\n",
       " 'Tom Cruise, Kelly McGillis, Anthony Edwards, Val Kilmer',\n",
       " 'Nicolas Cage, John Cusack, John Malkovich, Steve Buscemi',\n",
       " 'Sylvester Stallone, Jason Statham, Jet Li, Dolph Lundgren',\n",
       " 'Brendan Fraser, Rachel Weisz, John Hannah, Arnold Vosloo',\n",
       " 'Brad Pitt, Angelina Jolie, Vince Vaughn, Adam Brody',\n",
       " 'Jackie Chan, Chris Tucker, Tom Wilkinson, Elizabeth Peña',\n",
       " 'Denzel Washington, Marton Csokas, Chloë Grace Moretz, David Harbour',\n",
       " 'Chris Evans, Robert Downey Jr., Scarlett Johansson, Sebastian Stan',\n",
       " 'Harrison Ford, Gary Oldman, Glenn Close, Wendy Crewson',\n",
       " 'Jean-Claude Van Damme, Donald Gibb, Leah Ayres, Norman Burton',\n",
       " \"Wesley Snipes, Stephen Dorff, Kris Kristofferson, N'Bushe Wright\",\n",
       " 'Martin Lawrence, Will Smith, Tea Leoni, Tcheky Karyo',\n",
       " 'Bruce Willis, Jeremy Irons, Samuel L. Jackson, Graham Greene',\n",
       " 'Arnold Schwarzenegger, Maria Conchita Alonso, Richard Dawson, Yaphet Kotto',\n",
       " 'Chuck Norris, Henry Silva, Bert Remsen, Mike Genovese',\n",
       " 'Clive Owen, Paul Giamatti, Monica Bellucci, Daniel Pilon',\n",
       " 'Jason Statham, Amy Smart, Jose Pablo Cantillo, Efren Ramirez',\n",
       " 'Danny Trejo, Robert De Niro, Jessica Alba, Steven Seagal',\n",
       " 'Ryan Gosling, Carey Mulligan, Bryan Cranston, Albert Brooks',\n",
       " 'Jack Nicholson, Michael Keaton, Kim Basinger, Robert Wuhl',\n",
       " 'Steven Seagal, Tommy Lee Jones, Gary Busey, Erika Eleniak',\n",
       " 'Will Smith, Bill Pullman, Jeff Goldblum, Mary McDonnell',\n",
       " 'Steve McQueen, Robert Vaughn, Jacqueline Bisset, Don Gordon',\n",
       " 'James McAvoy, Morgan Freeman, Angelina Jolie, Terence Stamp',\n",
       " 'Christopher Reeve, Gene Hackman, Marlon Brando, Margot Kidder',\n",
       " 'Robert De Niro, Jean Reno, Natascha McElhone, Stellan Skarsgard',\n",
       " 'Roddy Piper, Keith David, Meg Foster, George \"Buck\" Flower',\n",
       " 'Sylvester Stallone, John Lithgow, Michael Rooker, Janine Turner',\n",
       " 'Robert Downey Jr., Chris Evans, Mark Ruffalo, Chris Hemsworth',\n",
       " 'Simon Pegg, Nick Frost, Jim Broadbent, Paddy Considine',\n",
       " 'Michael Beck, James Remar, Dorsey Wright, Brian Tyler',\n",
       " 'Casper Van Dien, Dina Meyer, Denise Richards, Jake Busey',\n",
       " 'Wagner Moura, Irandhir Santos, André Ramiro, Pedro Van-Held',\n",
       " 'Patrick Swayze, Keanu Reeves, Gary Busey, Lori Petty',\n",
       " 'Geena Davis, Samuel L. Jackson, Patrick Malahide, Craig Bierko',\n",
       " 'Dan Stevens, Maika Monroe, Leland Orser, Sheila Kelley',\n",
       " 'Liam Neeson, Maggie Grace, Famke Janssen, Leland Orser',\n",
       " 'Gerard Butler, Lena Headey, David Wenham, Dominic West',\n",
       " 'Arnold Schwarzenegger, Jamie Lee Curtis, Tom Arnold, Bill Paxton',\n",
       " 'Sylvester Stallone, Wesley Snipes, Sandra Bullock, Nigel Hawthorne',\n",
       " 'Sharlto Copley, Danila Kozlovsky, Haley Bennett, Dasha Charusha',\n",
       " 'Jackie Chan, Brigitte Lin, Maggie Cheung, Bill Tung',\n",
       " 'Samuel Le Bihan, Mark Dacascos, Émilie Dequenne, Vincent Cassel',\n",
       " 'Colin Firth, Michael Caine, Taron Egerton, Samuel L. Jackson',\n",
       " 'Bruce Willis, Gary Oldman, Ian Holm, Milla Jovovich',\n",
       " 'Kurt Russell, Kim Cattrall, Dennis Dun, James Hong',\n",
       " 'Charlize Theron, James McAvoy, Eddie Marsan, John Goodman',\n",
       " 'Jackie Chan, Anita Mui, Bill Tung, Françoise Yip',\n",
       " \"Cyril Raffaelli, David Belle, Tony D'Amario, Larbi Naceri\",\n",
       " 'Eddie Murphy, Judge Reinhold, John Ashton, Lisa Eilbacher',\n",
       " 'Tony Jaa, Pumwaree Yodkamol, Petchtai Wongkamlao, Suchao Pongwilai',\n",
       " 'Tom Cruise, Jamie Foxx, Jada Pinkett Smith, Mark Ruffalo',\n",
       " 'Rongguang Yu, Donnie Yen, Sze-Man Tsang, Jean Wang',\n",
       " 'Kurt Russell, Ernest Borgnine, Adrienne Barbeau, Lee Van Cleef',\n",
       " 'Tatsuya Fujiwara, Aki Maeda, Taro Yamamoto, Masanobu Andô',\n",
       " 'Tobey Maguire, Kirsten Dunst, James Franco, Alfred Molina',\n",
       " 'Koji Yakusho, Takayuki Yamada, Yusuke Iseya, Goro Inagaki',\n",
       " 'Chow Yun-Fat, Simon Yam, Bonnie Fu, Wong Chow-Sang',\n",
       " 'Harrison Ford, Sean Connery, Denholm Elliott, Alison Doody',\n",
       " 'Stephen Chow, Yuen Wah, Yuen Qiu, Siu-Lung Leung',\n",
       " 'Ti Lung, Chow Yun-Fat, Leslie Cheung, Emily Chu',\n",
       " 'Robert Downey Jr., Terrence Howard, Gwyneth Paltrow, Jeff Bridges',\n",
       " 'Joe Taslim, Iko Uwais, Julie Estelle, Sunny Pang',\n",
       " 'Hugh Jackman, Patrick Stewart, Dafne Keen, Richard E. Grant',\n",
       " 'Sean Connery, Gert Frobe, Honor Blackman, Shirley Eaton',\n",
       " 'Austin Stoker, Darwin Joston, Laurie Zimmer, Martin West',\n",
       " 'Gal Gadot, Chris Pine, Connie Nielsen, Robin Wright',\n",
       " 'Bruce Lee, Miao Ker Hsiu, James Tien, Robert Baker',\n",
       " 'Chris Evans, Scarlett Johansson, Samuel L. Jackson, Sebastian Stan',\n",
       " 'Choi Min-sik, Yoo Ji-tae, Kang Hye-jung, Ji Dae-han',\n",
       " 'Gene Hackman, Fernando Rey, Roy Scheider, Tony Lo Bianco',\n",
       " 'Vin Diesel, Paul Walker, Dwayne Johnson, Michelle Rodriguez',\n",
       " 'Anne Parillaud, Jean-Hugues Anglade, Tcheky Karyo, Jeanne Moreau',\n",
       " 'Jackie Chan, Michelle Yeaoh, Maggie Cheung, Ken Tsang',\n",
       " 'Clint Eastwood, Harry Guardino, Reni Santoni, John Larch',\n",
       " 'Tom Cruise, Emily Blunt, Brendan Gleeson, Bill Paxton',\n",
       " 'Patrick Stewart, Hugh Jackman, Ian McKellen, Halle Berry',\n",
       " 'Harrison Ford, Tommy Lee Jones, Sela Ward, Julianne Moore',\n",
       " \"Chadwick Boseman, Michael B. Jordan, Lupita Nyong'o, Danai Gurira\",\n",
       " 'Leonardo DiCaprio, Joseph Gordon-Levitt, Ellen Page, Tom Hardy',\n",
       " 'Mel Gibson, Sophie Marceau, Patrick McGoohan, Catherine McCormack',\n",
       " 'Tom Cruise, Colin Farrell, Samantha Morton, Max von Sydow',\n",
       " 'Robert Downey Jr., Chris Evans, Mark Ruffalo, Chris Hemsworth',\n",
       " 'Karl Urban, Olivia Thirlby, Lena Headey, Wood Harris',\n",
       " 'Matt Damon, Franka Potente, Chris Cooper, Clive Owen',\n",
       " 'Donnie Yen, Simon Yam, Siu-wong Fan, Ka Tung Lam',\n",
       " 'John Travolta, Nicolas Cage, Joan Allen, Alessandro Nivola',\n",
       " 'William L. Petersen, Willem Dafoe, John Pankow, Debra Feuer',\n",
       " 'Christian Bale, Heath Ledger, Aaron Eckhart, Michael Caine',\n",
       " 'Tom Cruise, Jeremy Renner, Simon Pegg, Paula Patton',\n",
       " 'Vin Diesel, Paul Walker, Jordana Brewster, Tyrese Gibson',\n",
       " 'Mel Gibson, Danny Glover, Gary Busey, Mitchell Ryan',\n",
       " 'Sean Connery, Nicolas Cage, Ed Harris, Michael Biehn',\n",
       " \"Peter Weller, Nancy Allen, Ronny Cox, Daniel O'Herlihy\",\n",
       " 'Keanu Reeves, Common, Laurence Fishburne, Riccardo Scamarcio',\n",
       " 'Daniel Craig, Eva Green, Mads Mikkelsen, Judi Dench',\n",
       " 'Ansel Elgort, Kevin Spacey, Lily James, Jon Bernthal',\n",
       " 'Jet Li, Chin Siu Ho, Billy Chow, Yasuaki Kurata',\n",
       " 'Chow Yun-Fat, Danny Lee, Sally Yeh, Kenneth Tsang',\n",
       " 'Iko Uwais, Yayan Ruhian, Arifin Putra, Oka Antara',\n",
       " 'Bruce Lee, John Saxon, Jim Kelly, Ahna Capri',\n",
       " 'Arnold Schwarzenegger, Rae Dawn Chong, Dan Hedaya, Vernon Wells',\n",
       " 'Sylvester Stallone, Richard Crenna, Brian Dennehy, David Caruso',\n",
       " 'Tom Cruise, Jeremy Renner, Simon Pegg, Rebecca Ferguson',\n",
       " 'Arnold Schwarzenegger, Linda Hamilton, Michael Biehn, Paul Winfield',\n",
       " 'Russell Crowe, Joaquin Phoenix, Connie Nielsen, Oliver Reed',\n",
       " 'Uma Thurman, Lucy Liu, Vivica A. Fox, Michael Madsen',\n",
       " 'Jean Reno, Gary Oldman, Natalie Portman, Danny Aiello',\n",
       " 'Keanu Reeves, Dennis Hopper, Sandra Bullock, Joe Morton',\n",
       " 'Jackie Chan, Ti Lung, Anita Mui, Kar-leung Lau',\n",
       " 'Keanu Reeves, Michael Nyqvist, Alfie Allen, Willem Dafoe',\n",
       " 'Chow Yun-Fat, Michelle Yeoh, Zhang Ziyi, Chen Chang',\n",
       " 'Arnold Schwarzenegger, Carl Weathers, Jesse Ventura, Elpidia Carrillo',\n",
       " 'Matt Damon, Julia Stiles, Joan Allen, David Strathairn',\n",
       " 'Arnold Schwarzenegger, Rachel Ticotin, Sharon Stone, Ronny Cox',\n",
       " 'Mel Gibson, Bruce Spence, Emil Minty, Vernon Wells',\n",
       " 'Al Pacino, Robert De Niro, Val Kilmer, Jon Voight',\n",
       " 'Iko Uwais, Joe Taslim, Doni Alamsyah, Yayan Ruhian',\n",
       " 'Tom Cruise, Henry Cavill, Ving Rhames, Simon Pegg',\n",
       " 'Harrison Ford, Karen Allen, Paul Freeman, Wolf Kahler',\n",
       " 'Sigourney Weaver, Carrie Henn, Michael Biehn, Paul Reiser',\n",
       " 'Chow Yun-Fat, Bowie Lam, Philip Chan, Tony Leung Chiu Wai',\n",
       " 'Keanu Reeves, Laurence Fishburne, Carrie-Anne Moss, Hugo Weaving',\n",
       " 'Arnold Schwarzenegger, Linda Hamilton, Edward Furlong, Robert Patrick',\n",
       " 'Bruce Willis, Alan Rickman, Bonnie Bedelia, Reginald VelJohnson',\n",
       " 'Tom Hardy, Charlize Theron, Nicholas Hoult, Hugh Keays-Byrne']"
      ]
     },
     "execution_count": 27,
     "metadata": {},
     "output_type": "execute_result"
    }
   ],
   "source": [
    "cast =[]\n",
    "\n",
    "for c in info_cast :\n",
    "    cast_links = c.find_all('a')\n",
    "    cast_names = [link.string for link in cast_links]\n",
    "    result = \", \".join(cast_names)\n",
    "    \n",
    "    cast.append(result)\n",
    "    \n",
    "cast"
   ]
  },
  {
   "cell_type": "markdown",
   "metadata": {},
   "source": [
    "# Nested list comprehension"
   ]
  },
  {
   "cell_type": "code",
   "execution_count": 28,
   "metadata": {},
   "outputs": [
    {
     "data": {
      "text/plain": [
       "['Gregory Hines, Billy Crystal, Jimmy Smits, Steven Bauer',\n",
       " 'Christian Bale, Emily Watson, Taye Diggs, Angus Macfadyen',\n",
       " 'Jet Li, Tony Leung Chiu Wai, Maggie Cheung Man-yuk, Donnie Yen',\n",
       " 'Patrick Swayze, Kelly Lynch, Sam Elliott, Ben Gazzara',\n",
       " 'Denzel Washington, Chris Pine, Rosario Dawson, Kevin Dunn',\n",
       " 'Richard Roundtree, Moses Gunn, Christopher St. John, Charles Cioffi',\n",
       " 'Kim Ok-bin, Shin Ha-kyun, Sung-joon, Kim Seo-hyung',\n",
       " 'Christopher Lambert, Sean Connery, Roxanne Hart, Clancy Brown',\n",
       " 'Bruce Willis, Bonnie Bedelia, William Atherton, Reginald VelJohnson',\n",
       " 'Nicolas Cage, Diane Kruger, Justin Bartha, Sean Bean',\n",
       " 'Tony Jaa, Johnny Nguyen, Nathan Jones, Petchtai Wongkamlao',\n",
       " 'Matilda Lutz, Kevin Janssens, Vincent Colombe, Guillaume Bouchède',\n",
       " 'Carlos Gallardo, Consuelo Gómez, Reinol Martinez, Peter Marquardt',\n",
       " 'Feng Hsu, Chun Shih, Pai Ying, Roy Chiao',\n",
       " 'Tom Cruise, Kelly McGillis, Anthony Edwards, Val Kilmer',\n",
       " 'Nicolas Cage, John Cusack, John Malkovich, Steve Buscemi',\n",
       " 'Sylvester Stallone, Jason Statham, Jet Li, Dolph Lundgren',\n",
       " 'Brendan Fraser, Rachel Weisz, John Hannah, Arnold Vosloo',\n",
       " 'Brad Pitt, Angelina Jolie, Vince Vaughn, Adam Brody',\n",
       " 'Jackie Chan, Chris Tucker, Tom Wilkinson, Elizabeth Peña',\n",
       " 'Denzel Washington, Marton Csokas, Chloë Grace Moretz, David Harbour',\n",
       " 'Chris Evans, Robert Downey Jr., Scarlett Johansson, Sebastian Stan',\n",
       " 'Harrison Ford, Gary Oldman, Glenn Close, Wendy Crewson',\n",
       " 'Jean-Claude Van Damme, Donald Gibb, Leah Ayres, Norman Burton',\n",
       " \"Wesley Snipes, Stephen Dorff, Kris Kristofferson, N'Bushe Wright\",\n",
       " 'Martin Lawrence, Will Smith, Tea Leoni, Tcheky Karyo',\n",
       " 'Bruce Willis, Jeremy Irons, Samuel L. Jackson, Graham Greene',\n",
       " 'Arnold Schwarzenegger, Maria Conchita Alonso, Richard Dawson, Yaphet Kotto',\n",
       " 'Chuck Norris, Henry Silva, Bert Remsen, Mike Genovese',\n",
       " 'Clive Owen, Paul Giamatti, Monica Bellucci, Daniel Pilon',\n",
       " 'Jason Statham, Amy Smart, Jose Pablo Cantillo, Efren Ramirez',\n",
       " 'Danny Trejo, Robert De Niro, Jessica Alba, Steven Seagal',\n",
       " 'Ryan Gosling, Carey Mulligan, Bryan Cranston, Albert Brooks',\n",
       " 'Jack Nicholson, Michael Keaton, Kim Basinger, Robert Wuhl',\n",
       " 'Steven Seagal, Tommy Lee Jones, Gary Busey, Erika Eleniak',\n",
       " 'Will Smith, Bill Pullman, Jeff Goldblum, Mary McDonnell',\n",
       " 'Steve McQueen, Robert Vaughn, Jacqueline Bisset, Don Gordon',\n",
       " 'James McAvoy, Morgan Freeman, Angelina Jolie, Terence Stamp',\n",
       " 'Christopher Reeve, Gene Hackman, Marlon Brando, Margot Kidder',\n",
       " 'Robert De Niro, Jean Reno, Natascha McElhone, Stellan Skarsgard',\n",
       " 'Roddy Piper, Keith David, Meg Foster, George \"Buck\" Flower',\n",
       " 'Sylvester Stallone, John Lithgow, Michael Rooker, Janine Turner',\n",
       " 'Robert Downey Jr., Chris Evans, Mark Ruffalo, Chris Hemsworth',\n",
       " 'Simon Pegg, Nick Frost, Jim Broadbent, Paddy Considine',\n",
       " 'Michael Beck, James Remar, Dorsey Wright, Brian Tyler',\n",
       " 'Casper Van Dien, Dina Meyer, Denise Richards, Jake Busey',\n",
       " 'Wagner Moura, Irandhir Santos, André Ramiro, Pedro Van-Held',\n",
       " 'Patrick Swayze, Keanu Reeves, Gary Busey, Lori Petty',\n",
       " 'Geena Davis, Samuel L. Jackson, Patrick Malahide, Craig Bierko',\n",
       " 'Dan Stevens, Maika Monroe, Leland Orser, Sheila Kelley',\n",
       " 'Liam Neeson, Maggie Grace, Famke Janssen, Leland Orser',\n",
       " 'Gerard Butler, Lena Headey, David Wenham, Dominic West',\n",
       " 'Arnold Schwarzenegger, Jamie Lee Curtis, Tom Arnold, Bill Paxton',\n",
       " 'Sylvester Stallone, Wesley Snipes, Sandra Bullock, Nigel Hawthorne',\n",
       " 'Sharlto Copley, Danila Kozlovsky, Haley Bennett, Dasha Charusha',\n",
       " 'Jackie Chan, Brigitte Lin, Maggie Cheung, Bill Tung',\n",
       " 'Samuel Le Bihan, Mark Dacascos, Émilie Dequenne, Vincent Cassel',\n",
       " 'Colin Firth, Michael Caine, Taron Egerton, Samuel L. Jackson',\n",
       " 'Bruce Willis, Gary Oldman, Ian Holm, Milla Jovovich',\n",
       " 'Kurt Russell, Kim Cattrall, Dennis Dun, James Hong',\n",
       " 'Charlize Theron, James McAvoy, Eddie Marsan, John Goodman',\n",
       " 'Jackie Chan, Anita Mui, Bill Tung, Françoise Yip',\n",
       " \"Cyril Raffaelli, David Belle, Tony D'Amario, Larbi Naceri\",\n",
       " 'Eddie Murphy, Judge Reinhold, John Ashton, Lisa Eilbacher',\n",
       " 'Tony Jaa, Pumwaree Yodkamol, Petchtai Wongkamlao, Suchao Pongwilai',\n",
       " 'Tom Cruise, Jamie Foxx, Jada Pinkett Smith, Mark Ruffalo',\n",
       " 'Rongguang Yu, Donnie Yen, Sze-Man Tsang, Jean Wang',\n",
       " 'Kurt Russell, Ernest Borgnine, Adrienne Barbeau, Lee Van Cleef',\n",
       " 'Tatsuya Fujiwara, Aki Maeda, Taro Yamamoto, Masanobu Andô',\n",
       " 'Tobey Maguire, Kirsten Dunst, James Franco, Alfred Molina',\n",
       " 'Koji Yakusho, Takayuki Yamada, Yusuke Iseya, Goro Inagaki',\n",
       " 'Chow Yun-Fat, Simon Yam, Bonnie Fu, Wong Chow-Sang',\n",
       " 'Harrison Ford, Sean Connery, Denholm Elliott, Alison Doody',\n",
       " 'Stephen Chow, Yuen Wah, Yuen Qiu, Siu-Lung Leung',\n",
       " 'Ti Lung, Chow Yun-Fat, Leslie Cheung, Emily Chu',\n",
       " 'Robert Downey Jr., Terrence Howard, Gwyneth Paltrow, Jeff Bridges',\n",
       " 'Joe Taslim, Iko Uwais, Julie Estelle, Sunny Pang',\n",
       " 'Hugh Jackman, Patrick Stewart, Dafne Keen, Richard E. Grant',\n",
       " 'Sean Connery, Gert Frobe, Honor Blackman, Shirley Eaton',\n",
       " 'Austin Stoker, Darwin Joston, Laurie Zimmer, Martin West',\n",
       " 'Gal Gadot, Chris Pine, Connie Nielsen, Robin Wright',\n",
       " 'Bruce Lee, Miao Ker Hsiu, James Tien, Robert Baker',\n",
       " 'Chris Evans, Scarlett Johansson, Samuel L. Jackson, Sebastian Stan',\n",
       " 'Choi Min-sik, Yoo Ji-tae, Kang Hye-jung, Ji Dae-han',\n",
       " 'Gene Hackman, Fernando Rey, Roy Scheider, Tony Lo Bianco',\n",
       " 'Vin Diesel, Paul Walker, Dwayne Johnson, Michelle Rodriguez',\n",
       " 'Anne Parillaud, Jean-Hugues Anglade, Tcheky Karyo, Jeanne Moreau',\n",
       " 'Jackie Chan, Michelle Yeaoh, Maggie Cheung, Ken Tsang',\n",
       " 'Clint Eastwood, Harry Guardino, Reni Santoni, John Larch',\n",
       " 'Tom Cruise, Emily Blunt, Brendan Gleeson, Bill Paxton',\n",
       " 'Patrick Stewart, Hugh Jackman, Ian McKellen, Halle Berry',\n",
       " 'Harrison Ford, Tommy Lee Jones, Sela Ward, Julianne Moore',\n",
       " \"Chadwick Boseman, Michael B. Jordan, Lupita Nyong'o, Danai Gurira\",\n",
       " 'Leonardo DiCaprio, Joseph Gordon-Levitt, Ellen Page, Tom Hardy',\n",
       " 'Mel Gibson, Sophie Marceau, Patrick McGoohan, Catherine McCormack',\n",
       " 'Tom Cruise, Colin Farrell, Samantha Morton, Max von Sydow',\n",
       " 'Robert Downey Jr., Chris Evans, Mark Ruffalo, Chris Hemsworth',\n",
       " 'Karl Urban, Olivia Thirlby, Lena Headey, Wood Harris',\n",
       " 'Matt Damon, Franka Potente, Chris Cooper, Clive Owen',\n",
       " 'Donnie Yen, Simon Yam, Siu-wong Fan, Ka Tung Lam',\n",
       " 'John Travolta, Nicolas Cage, Joan Allen, Alessandro Nivola',\n",
       " 'William L. Petersen, Willem Dafoe, John Pankow, Debra Feuer',\n",
       " 'Christian Bale, Heath Ledger, Aaron Eckhart, Michael Caine',\n",
       " 'Tom Cruise, Jeremy Renner, Simon Pegg, Paula Patton',\n",
       " 'Vin Diesel, Paul Walker, Jordana Brewster, Tyrese Gibson',\n",
       " 'Mel Gibson, Danny Glover, Gary Busey, Mitchell Ryan',\n",
       " 'Sean Connery, Nicolas Cage, Ed Harris, Michael Biehn',\n",
       " \"Peter Weller, Nancy Allen, Ronny Cox, Daniel O'Herlihy\",\n",
       " 'Keanu Reeves, Common, Laurence Fishburne, Riccardo Scamarcio',\n",
       " 'Daniel Craig, Eva Green, Mads Mikkelsen, Judi Dench',\n",
       " 'Ansel Elgort, Kevin Spacey, Lily James, Jon Bernthal',\n",
       " 'Jet Li, Chin Siu Ho, Billy Chow, Yasuaki Kurata',\n",
       " 'Chow Yun-Fat, Danny Lee, Sally Yeh, Kenneth Tsang',\n",
       " 'Iko Uwais, Yayan Ruhian, Arifin Putra, Oka Antara',\n",
       " 'Bruce Lee, John Saxon, Jim Kelly, Ahna Capri',\n",
       " 'Arnold Schwarzenegger, Rae Dawn Chong, Dan Hedaya, Vernon Wells',\n",
       " 'Sylvester Stallone, Richard Crenna, Brian Dennehy, David Caruso',\n",
       " 'Tom Cruise, Jeremy Renner, Simon Pegg, Rebecca Ferguson',\n",
       " 'Arnold Schwarzenegger, Linda Hamilton, Michael Biehn, Paul Winfield',\n",
       " 'Russell Crowe, Joaquin Phoenix, Connie Nielsen, Oliver Reed',\n",
       " 'Uma Thurman, Lucy Liu, Vivica A. Fox, Michael Madsen',\n",
       " 'Jean Reno, Gary Oldman, Natalie Portman, Danny Aiello',\n",
       " 'Keanu Reeves, Dennis Hopper, Sandra Bullock, Joe Morton',\n",
       " 'Jackie Chan, Ti Lung, Anita Mui, Kar-leung Lau',\n",
       " 'Keanu Reeves, Michael Nyqvist, Alfie Allen, Willem Dafoe',\n",
       " 'Chow Yun-Fat, Michelle Yeoh, Zhang Ziyi, Chen Chang',\n",
       " 'Arnold Schwarzenegger, Carl Weathers, Jesse Ventura, Elpidia Carrillo',\n",
       " 'Matt Damon, Julia Stiles, Joan Allen, David Strathairn',\n",
       " 'Arnold Schwarzenegger, Rachel Ticotin, Sharon Stone, Ronny Cox',\n",
       " 'Mel Gibson, Bruce Spence, Emil Minty, Vernon Wells',\n",
       " 'Al Pacino, Robert De Niro, Val Kilmer, Jon Voight',\n",
       " 'Iko Uwais, Joe Taslim, Doni Alamsyah, Yayan Ruhian',\n",
       " 'Tom Cruise, Henry Cavill, Ving Rhames, Simon Pegg',\n",
       " 'Harrison Ford, Karen Allen, Paul Freeman, Wolf Kahler',\n",
       " 'Sigourney Weaver, Carrie Henn, Michael Biehn, Paul Reiser',\n",
       " 'Chow Yun-Fat, Bowie Lam, Philip Chan, Tony Leung Chiu Wai',\n",
       " 'Keanu Reeves, Laurence Fishburne, Carrie-Anne Moss, Hugo Weaving',\n",
       " 'Arnold Schwarzenegger, Linda Hamilton, Edward Furlong, Robert Patrick',\n",
       " 'Bruce Willis, Alan Rickman, Bonnie Bedelia, Reginald VelJohnson',\n",
       " 'Tom Hardy, Charlize Theron, Nicholas Hoult, Hugh Keays-Byrne']"
      ]
     },
     "execution_count": 28,
     "metadata": {},
     "output_type": "execute_result"
    }
   ],
   "source": [
    "cast = [\", \".join([link.string for link in c.find_all('a')]) for c in info_cast]\n",
    "cast"
   ]
  },
  {
   "cell_type": "markdown",
   "metadata": {},
   "source": [
    "# Representing the data in structured form"
   ]
  },
  {
   "cell_type": "code",
   "execution_count": 29,
   "metadata": {},
   "outputs": [],
   "source": [
    "import pandas as pd"
   ]
  },
  {
   "cell_type": "markdown",
   "metadata": {},
   "source": [
    "# Creating Data Frame"
   ]
  },
  {
   "cell_type": "code",
   "execution_count": 30,
   "metadata": {},
   "outputs": [
    {
     "data": {
      "text/html": [
       "<div>\n",
       "<style scoped>\n",
       "    .dataframe tbody tr th:only-of-type {\n",
       "        vertical-align: middle;\n",
       "    }\n",
       "\n",
       "    .dataframe tbody tr th {\n",
       "        vertical-align: top;\n",
       "    }\n",
       "\n",
       "    .dataframe thead th {\n",
       "        text-align: right;\n",
       "    }\n",
       "</style>\n",
       "<table border=\"1\" class=\"dataframe\">\n",
       "  <thead>\n",
       "    <tr style=\"text-align: right;\">\n",
       "      <th></th>\n",
       "      <th>Movie Title</th>\n",
       "      <th>Year</th>\n",
       "      <th>Score TOMATOMETER</th>\n",
       "      <th>Score AUDIENCE</th>\n",
       "      <th>Directors</th>\n",
       "      <th>Starring</th>\n",
       "    </tr>\n",
       "  </thead>\n",
       "  <tbody>\n",
       "    <tr>\n",
       "      <th>0</th>\n",
       "      <td>Running Scared</td>\n",
       "      <td>1986</td>\n",
       "      <td>59%</td>\n",
       "      <td>58%</td>\n",
       "      <td>Peter Hyams</td>\n",
       "      <td>Gregory Hines, Billy Crystal, Jimmy Smits, Ste...</td>\n",
       "    </tr>\n",
       "    <tr>\n",
       "      <th>1</th>\n",
       "      <td>Equilibrium</td>\n",
       "      <td>2002</td>\n",
       "      <td>40%</td>\n",
       "      <td>81%</td>\n",
       "      <td>Kurt Wimmer</td>\n",
       "      <td>Christian Bale, Emily Watson, Taye Diggs, Angu...</td>\n",
       "    </tr>\n",
       "    <tr>\n",
       "      <th>2</th>\n",
       "      <td>Hero</td>\n",
       "      <td>2002</td>\n",
       "      <td>94%</td>\n",
       "      <td>87%</td>\n",
       "      <td>Zhang Yimou</td>\n",
       "      <td>Jet Li, Tony Leung Chiu Wai, Maggie Cheung Man...</td>\n",
       "    </tr>\n",
       "    <tr>\n",
       "      <th>3</th>\n",
       "      <td>Road House</td>\n",
       "      <td>1989</td>\n",
       "      <td>39%</td>\n",
       "      <td>66%</td>\n",
       "      <td>Rowdy Herrington</td>\n",
       "      <td>Patrick Swayze, Kelly Lynch, Sam Elliott, Ben ...</td>\n",
       "    </tr>\n",
       "    <tr>\n",
       "      <th>4</th>\n",
       "      <td>Unstoppable</td>\n",
       "      <td>2010</td>\n",
       "      <td>87%</td>\n",
       "      <td>72%</td>\n",
       "      <td>Tony Scott</td>\n",
       "      <td>Denzel Washington, Chris Pine, Rosario Dawson,...</td>\n",
       "    </tr>\n",
       "    <tr>\n",
       "      <th>...</th>\n",
       "      <td>...</td>\n",
       "      <td>...</td>\n",
       "      <td>...</td>\n",
       "      <td>...</td>\n",
       "      <td>...</td>\n",
       "      <td>...</td>\n",
       "    </tr>\n",
       "    <tr>\n",
       "      <th>135</th>\n",
       "      <td>Hard-Boiled</td>\n",
       "      <td>1992</td>\n",
       "      <td>94%</td>\n",
       "      <td>92%</td>\n",
       "      <td>John Woo</td>\n",
       "      <td>Chow Yun-Fat, Bowie Lam, Philip Chan, Tony Leu...</td>\n",
       "    </tr>\n",
       "    <tr>\n",
       "      <th>136</th>\n",
       "      <td>The Matrix</td>\n",
       "      <td>1999</td>\n",
       "      <td>88%</td>\n",
       "      <td>85%</td>\n",
       "      <td>Andy Wachowski</td>\n",
       "      <td>Keanu Reeves, Laurence Fishburne, Carrie-Anne ...</td>\n",
       "    </tr>\n",
       "    <tr>\n",
       "      <th>137</th>\n",
       "      <td>Terminator 2: Judgment Day</td>\n",
       "      <td>1991</td>\n",
       "      <td>93%</td>\n",
       "      <td>95%</td>\n",
       "      <td>James Cameron</td>\n",
       "      <td>Arnold Schwarzenegger, Linda Hamilton, Edward ...</td>\n",
       "    </tr>\n",
       "    <tr>\n",
       "      <th>138</th>\n",
       "      <td>Die Hard</td>\n",
       "      <td>1988</td>\n",
       "      <td>94%</td>\n",
       "      <td>94%</td>\n",
       "      <td>John McTiernan</td>\n",
       "      <td>Bruce Willis, Alan Rickman, Bonnie Bedelia, Re...</td>\n",
       "    </tr>\n",
       "    <tr>\n",
       "      <th>139</th>\n",
       "      <td>Mad Max: Fury Road</td>\n",
       "      <td>2015</td>\n",
       "      <td>97%</td>\n",
       "      <td>86%</td>\n",
       "      <td>George Miller</td>\n",
       "      <td>Tom Hardy, Charlize Theron, Nicholas Hoult, Hu...</td>\n",
       "    </tr>\n",
       "  </tbody>\n",
       "</table>\n",
       "<p>140 rows × 6 columns</p>\n",
       "</div>"
      ],
      "text/plain": [
       "                    Movie Title  Year Score TOMATOMETER Score AUDIENCE  \\\n",
       "0                Running Scared  1986               59%            58%   \n",
       "1                   Equilibrium  2002               40%            81%   \n",
       "2                          Hero  2002               94%            87%   \n",
       "3                    Road House  1989               39%            66%   \n",
       "4                   Unstoppable  2010               87%            72%   \n",
       "..                          ...   ...               ...            ...   \n",
       "135                 Hard-Boiled  1992               94%            92%   \n",
       "136                  The Matrix  1999               88%            85%   \n",
       "137  Terminator 2: Judgment Day  1991               93%            95%   \n",
       "138                    Die Hard  1988               94%            94%   \n",
       "139          Mad Max: Fury Road  2015               97%            86%   \n",
       "\n",
       "            Directors                                           Starring  \n",
       "0         Peter Hyams  Gregory Hines, Billy Crystal, Jimmy Smits, Ste...  \n",
       "1         Kurt Wimmer  Christian Bale, Emily Watson, Taye Diggs, Angu...  \n",
       "2         Zhang Yimou  Jet Li, Tony Leung Chiu Wai, Maggie Cheung Man...  \n",
       "3    Rowdy Herrington  Patrick Swayze, Kelly Lynch, Sam Elliott, Ben ...  \n",
       "4          Tony Scott  Denzel Washington, Chris Pine, Rosario Dawson,...  \n",
       "..                ...                                                ...  \n",
       "135          John Woo  Chow Yun-Fat, Bowie Lam, Philip Chan, Tony Leu...  \n",
       "136    Andy Wachowski  Keanu Reeves, Laurence Fishburne, Carrie-Anne ...  \n",
       "137     James Cameron  Arnold Schwarzenegger, Linda Hamilton, Edward ...  \n",
       "138    John McTiernan  Bruce Willis, Alan Rickman, Bonnie Bedelia, Re...  \n",
       "139     George Miller  Tom Hardy, Charlize Theron, Nicholas Hoult, Hu...  \n",
       "\n",
       "[140 rows x 6 columns]"
      ]
     },
     "execution_count": 30,
     "metadata": {},
     "output_type": "execute_result"
    }
   ],
   "source": [
    "movies_info = pd.DataFrame()\n",
    "\n",
    "movies_info[\"Movie Title\"] = movie_names\n",
    "movies_info[\"Year\"] = movie_years\n",
    "movies_info[\"Score TOMATOMETER\"] = movie_st\n",
    "movies_info[\"Score AUDIENCE\"] = movie_sa\n",
    "movies_info[\"Directors\"] = directors_list\n",
    "movies_info[\"Starring\"] = cast\n",
    "\n",
    "movies_info"
   ]
  },
  {
   "cell_type": "code",
   "execution_count": 31,
   "metadata": {},
   "outputs": [],
   "source": [
    "# movies_info.to_csv('movies_dataset.csv',index=False)"
   ]
  },
  {
   "cell_type": "code",
   "execution_count": 32,
   "metadata": {},
   "outputs": [
    {
     "data": {
      "text/html": [
       "<div>\n",
       "<style scoped>\n",
       "    .dataframe tbody tr th:only-of-type {\n",
       "        vertical-align: middle;\n",
       "    }\n",
       "\n",
       "    .dataframe tbody tr th {\n",
       "        vertical-align: top;\n",
       "    }\n",
       "\n",
       "    .dataframe thead th {\n",
       "        text-align: right;\n",
       "    }\n",
       "</style>\n",
       "<table border=\"1\" class=\"dataframe\">\n",
       "  <thead>\n",
       "    <tr style=\"text-align: right;\">\n",
       "      <th></th>\n",
       "      <th>Movie Title</th>\n",
       "      <th>Year</th>\n",
       "      <th>Score TOMATOMETER</th>\n",
       "      <th>Score AUDIENCE</th>\n",
       "      <th>Directors</th>\n",
       "      <th>Starring</th>\n",
       "    </tr>\n",
       "  </thead>\n",
       "  <tbody>\n",
       "    <tr>\n",
       "      <th>0</th>\n",
       "      <td>Running Scared</td>\n",
       "      <td>1986</td>\n",
       "      <td>59%</td>\n",
       "      <td>58%</td>\n",
       "      <td>Peter Hyams</td>\n",
       "      <td>Gregory Hines, Billy Crystal, Jimmy Smits, Ste...</td>\n",
       "    </tr>\n",
       "    <tr>\n",
       "      <th>1</th>\n",
       "      <td>Equilibrium</td>\n",
       "      <td>2002</td>\n",
       "      <td>40%</td>\n",
       "      <td>81%</td>\n",
       "      <td>Kurt Wimmer</td>\n",
       "      <td>Christian Bale, Emily Watson, Taye Diggs, Angu...</td>\n",
       "    </tr>\n",
       "    <tr>\n",
       "      <th>2</th>\n",
       "      <td>Hero</td>\n",
       "      <td>2002</td>\n",
       "      <td>94%</td>\n",
       "      <td>87%</td>\n",
       "      <td>Zhang Yimou</td>\n",
       "      <td>Jet Li, Tony Leung Chiu Wai, Maggie Cheung Man...</td>\n",
       "    </tr>\n",
       "    <tr>\n",
       "      <th>3</th>\n",
       "      <td>Road House</td>\n",
       "      <td>1989</td>\n",
       "      <td>39%</td>\n",
       "      <td>66%</td>\n",
       "      <td>Rowdy Herrington</td>\n",
       "      <td>Patrick Swayze, Kelly Lynch, Sam Elliott, Ben ...</td>\n",
       "    </tr>\n",
       "    <tr>\n",
       "      <th>4</th>\n",
       "      <td>Unstoppable</td>\n",
       "      <td>2010</td>\n",
       "      <td>87%</td>\n",
       "      <td>72%</td>\n",
       "      <td>Tony Scott</td>\n",
       "      <td>Denzel Washington, Chris Pine, Rosario Dawson,...</td>\n",
       "    </tr>\n",
       "  </tbody>\n",
       "</table>\n",
       "</div>"
      ],
      "text/plain": [
       "      Movie Title  Year Score TOMATOMETER Score AUDIENCE         Directors  \\\n",
       "0  Running Scared  1986               59%            58%       Peter Hyams   \n",
       "1     Equilibrium  2002               40%            81%       Kurt Wimmer   \n",
       "2            Hero  2002               94%            87%       Zhang Yimou   \n",
       "3      Road House  1989               39%            66%  Rowdy Herrington   \n",
       "4     Unstoppable  2010               87%            72%        Tony Scott   \n",
       "\n",
       "                                            Starring  \n",
       "0  Gregory Hines, Billy Crystal, Jimmy Smits, Ste...  \n",
       "1  Christian Bale, Emily Watson, Taye Diggs, Angu...  \n",
       "2  Jet Li, Tony Leung Chiu Wai, Maggie Cheung Man...  \n",
       "3  Patrick Swayze, Kelly Lynch, Sam Elliott, Ben ...  \n",
       "4  Denzel Washington, Chris Pine, Rosario Dawson,...  "
      ]
     },
     "execution_count": 32,
     "metadata": {},
     "output_type": "execute_result"
    }
   ],
   "source": [
    "all_data = pd.read_csv(\"movies_dataset.csv\")\n",
    "all_data.head()"
   ]
  },
  {
   "cell_type": "code",
   "execution_count": 33,
   "metadata": {},
   "outputs": [
    {
     "data": {
      "text/plain": [
       "Movie Title          0\n",
       "Year                 0\n",
       "Score TOMATOMETER    0\n",
       "Score AUDIENCE       0\n",
       "Directors            0\n",
       "Starring             0\n",
       "dtype: int64"
      ]
     },
     "execution_count": 33,
     "metadata": {},
     "output_type": "execute_result"
    }
   ],
   "source": [
    "all_data.isnull().sum()"
   ]
  },
  {
   "cell_type": "markdown",
   "metadata": {},
   "source": [
    "## The top 10 movies based on Score TOMATOMETER ? "
   ]
  },
  {
   "cell_type": "code",
   "execution_count": 34,
   "metadata": {},
   "outputs": [],
   "source": [
    "all_data['Score TOMATOMETER'] = [st.strip('%') for st in all_data['Score TOMATOMETER']]\n",
    "all_data['Score TOMATOMETER'] = all_data['Score TOMATOMETER'].astype('int')"
   ]
  },
  {
   "cell_type": "code",
   "execution_count": 35,
   "metadata": {},
   "outputs": [
    {
     "data": {
      "text/plain": [
       "0      59\n",
       "1      40\n",
       "2      94\n",
       "3      39\n",
       "4      87\n",
       "       ..\n",
       "135    94\n",
       "136    88\n",
       "137    93\n",
       "138    94\n",
       "139    97\n",
       "Name: Score TOMATOMETER, Length: 140, dtype: int32"
      ]
     },
     "execution_count": 35,
     "metadata": {},
     "output_type": "execute_result"
    }
   ],
   "source": [
    "all_data['Score TOMATOMETER']"
   ]
  },
  {
   "cell_type": "code",
   "execution_count": 36,
   "metadata": {
    "scrolled": true
   },
   "outputs": [
    {
     "data": {
      "text/html": [
       "<div>\n",
       "<style scoped>\n",
       "    .dataframe tbody tr th:only-of-type {\n",
       "        vertical-align: middle;\n",
       "    }\n",
       "\n",
       "    .dataframe tbody tr th {\n",
       "        vertical-align: top;\n",
       "    }\n",
       "\n",
       "    .dataframe thead th {\n",
       "        text-align: right;\n",
       "    }\n",
       "</style>\n",
       "<table border=\"1\" class=\"dataframe\">\n",
       "  <thead>\n",
       "    <tr style=\"text-align: right;\">\n",
       "      <th></th>\n",
       "      <th>Movie Title</th>\n",
       "      <th>Year</th>\n",
       "      <th>Score TOMATOMETER</th>\n",
       "      <th>Score AUDIENCE</th>\n",
       "      <th>Directors</th>\n",
       "      <th>Starring</th>\n",
       "    </tr>\n",
       "  </thead>\n",
       "  <tbody>\n",
       "    <tr>\n",
       "      <th>111</th>\n",
       "      <td>Fist of Legend</td>\n",
       "      <td>1994</td>\n",
       "      <td>100</td>\n",
       "      <td>92%</td>\n",
       "      <td>Gordon Chan</td>\n",
       "      <td>Jet Li, Chin Siu Ho, Billy Chow, Yasuaki Kurata</td>\n",
       "    </tr>\n",
       "    <tr>\n",
       "      <th>118</th>\n",
       "      <td>The Terminator</td>\n",
       "      <td>1984</td>\n",
       "      <td>100</td>\n",
       "      <td>89%</td>\n",
       "      <td>James Cameron</td>\n",
       "      <td>Arnold Schwarzenegger, Linda Hamilton, Michael...</td>\n",
       "    </tr>\n",
       "    <tr>\n",
       "      <th>78</th>\n",
       "      <td>Goldfinger</td>\n",
       "      <td>1964</td>\n",
       "      <td>99</td>\n",
       "      <td>89%</td>\n",
       "      <td>Guy Hamilton</td>\n",
       "      <td>Sean Connery, Gert Frobe, Honor Blackman, Shir...</td>\n",
       "    </tr>\n",
       "    <tr>\n",
       "      <th>36</th>\n",
       "      <td>Bullitt</td>\n",
       "      <td>1968</td>\n",
       "      <td>98</td>\n",
       "      <td>85%</td>\n",
       "      <td>Peter Yates</td>\n",
       "      <td>Steve McQueen, Robert Vaughn, Jacqueline Bisse...</td>\n",
       "    </tr>\n",
       "    <tr>\n",
       "      <th>112</th>\n",
       "      <td>The Killer</td>\n",
       "      <td>1989</td>\n",
       "      <td>98</td>\n",
       "      <td>92%</td>\n",
       "      <td>John Woo</td>\n",
       "      <td>Chow Yun-Fat, Danny Lee, Sally Yeh, Kenneth Tsang</td>\n",
       "    </tr>\n",
       "    <tr>\n",
       "      <th>134</th>\n",
       "      <td>Aliens</td>\n",
       "      <td>1986</td>\n",
       "      <td>98</td>\n",
       "      <td>94%</td>\n",
       "      <td>James Cameron</td>\n",
       "      <td>Sigourney Weaver, Carrie Henn, Michael Biehn, ...</td>\n",
       "    </tr>\n",
       "    <tr>\n",
       "      <th>13</th>\n",
       "      <td>A Touch of Zen</td>\n",
       "      <td>1971</td>\n",
       "      <td>97</td>\n",
       "      <td>83%</td>\n",
       "      <td>King Hu</td>\n",
       "      <td>Feng Hsu, Chun Shih, Pai Ying, Roy Chiao</td>\n",
       "    </tr>\n",
       "    <tr>\n",
       "      <th>125</th>\n",
       "      <td>Crouching Tiger, Hidden Dragon</td>\n",
       "      <td>2000</td>\n",
       "      <td>97</td>\n",
       "      <td>86%</td>\n",
       "      <td>Ang Lee</td>\n",
       "      <td>Chow Yun-Fat, Michelle Yeoh, Zhang Ziyi, Chen ...</td>\n",
       "    </tr>\n",
       "    <tr>\n",
       "      <th>132</th>\n",
       "      <td>Mission: Impossible -- Fallout</td>\n",
       "      <td>2018</td>\n",
       "      <td>97</td>\n",
       "      <td>88%</td>\n",
       "      <td>Christopher McQuarrie</td>\n",
       "      <td>Tom Cruise, Henry Cavill, Ving Rhames, Simon Pegg</td>\n",
       "    </tr>\n",
       "    <tr>\n",
       "      <th>139</th>\n",
       "      <td>Mad Max: Fury Road</td>\n",
       "      <td>2015</td>\n",
       "      <td>97</td>\n",
       "      <td>86%</td>\n",
       "      <td>George Miller</td>\n",
       "      <td>Tom Hardy, Charlize Theron, Nicholas Hoult, Hu...</td>\n",
       "    </tr>\n",
       "  </tbody>\n",
       "</table>\n",
       "</div>"
      ],
      "text/plain": [
       "                        Movie Title  Year  Score TOMATOMETER Score AUDIENCE  \\\n",
       "111                  Fist of Legend  1994                100            92%   \n",
       "118                  The Terminator  1984                100            89%   \n",
       "78                       Goldfinger  1964                 99            89%   \n",
       "36                          Bullitt  1968                 98            85%   \n",
       "112                      The Killer  1989                 98            92%   \n",
       "134                          Aliens  1986                 98            94%   \n",
       "13                   A Touch of Zen  1971                 97            83%   \n",
       "125  Crouching Tiger, Hidden Dragon  2000                 97            86%   \n",
       "132  Mission: Impossible -- Fallout  2018                 97            88%   \n",
       "139              Mad Max: Fury Road  2015                 97            86%   \n",
       "\n",
       "                 Directors                                           Starring  \n",
       "111            Gordon Chan    Jet Li, Chin Siu Ho, Billy Chow, Yasuaki Kurata  \n",
       "118          James Cameron  Arnold Schwarzenegger, Linda Hamilton, Michael...  \n",
       "78            Guy Hamilton  Sean Connery, Gert Frobe, Honor Blackman, Shir...  \n",
       "36             Peter Yates  Steve McQueen, Robert Vaughn, Jacqueline Bisse...  \n",
       "112               John Woo  Chow Yun-Fat, Danny Lee, Sally Yeh, Kenneth Tsang  \n",
       "134          James Cameron  Sigourney Weaver, Carrie Henn, Michael Biehn, ...  \n",
       "13                 King Hu           Feng Hsu, Chun Shih, Pai Ying, Roy Chiao  \n",
       "125                Ang Lee  Chow Yun-Fat, Michelle Yeoh, Zhang Ziyi, Chen ...  \n",
       "132  Christopher McQuarrie  Tom Cruise, Henry Cavill, Ving Rhames, Simon Pegg  \n",
       "139          George Miller  Tom Hardy, Charlize Theron, Nicholas Hoult, Hu...  "
      ]
     },
     "execution_count": 36,
     "metadata": {},
     "output_type": "execute_result"
    }
   ],
   "source": [
    "all_data.nlargest(10, ['Score TOMATOMETER'])"
   ]
  },
  {
   "cell_type": "markdown",
   "metadata": {},
   "source": [
    "## The top 10 movies based on Score Score AUDIENCE\t ? "
   ]
  },
  {
   "cell_type": "code",
   "execution_count": 37,
   "metadata": {},
   "outputs": [],
   "source": [
    "all_data['Score AUDIENCE'] = [st.strip('%') for st in all_data['Score AUDIENCE']]\n",
    "all_data['Score AUDIENCE'] = all_data['Score AUDIENCE'].astype('int')"
   ]
  },
  {
   "cell_type": "code",
   "execution_count": 38,
   "metadata": {},
   "outputs": [
    {
     "data": {
      "text/html": [
       "<div>\n",
       "<style scoped>\n",
       "    .dataframe tbody tr th:only-of-type {\n",
       "        vertical-align: middle;\n",
       "    }\n",
       "\n",
       "    .dataframe tbody tr th {\n",
       "        vertical-align: top;\n",
       "    }\n",
       "\n",
       "    .dataframe thead th {\n",
       "        text-align: right;\n",
       "    }\n",
       "</style>\n",
       "<table border=\"1\" class=\"dataframe\">\n",
       "  <thead>\n",
       "    <tr style=\"text-align: right;\">\n",
       "      <th></th>\n",
       "      <th>Movie Title</th>\n",
       "      <th>Year</th>\n",
       "      <th>Score TOMATOMETER</th>\n",
       "      <th>Score AUDIENCE</th>\n",
       "      <th>Directors</th>\n",
       "      <th>Starring</th>\n",
       "    </tr>\n",
       "  </thead>\n",
       "  <tbody>\n",
       "    <tr>\n",
       "      <th>133</th>\n",
       "      <td>Raiders of the Lost Ark</td>\n",
       "      <td>1981</td>\n",
       "      <td>96</td>\n",
       "      <td>96</td>\n",
       "      <td>Steven Spielberg</td>\n",
       "      <td>Harrison Ford, Karen Allen, Paul Freeman, Wolf...</td>\n",
       "    </tr>\n",
       "    <tr>\n",
       "      <th>121</th>\n",
       "      <td>The Professional</td>\n",
       "      <td>1994</td>\n",
       "      <td>74</td>\n",
       "      <td>95</td>\n",
       "      <td>Luc Besson</td>\n",
       "      <td>Jean Reno, Gary Oldman, Natalie Portman, Danny...</td>\n",
       "    </tr>\n",
       "    <tr>\n",
       "      <th>137</th>\n",
       "      <td>Terminator 2: Judgment Day</td>\n",
       "      <td>1991</td>\n",
       "      <td>93</td>\n",
       "      <td>95</td>\n",
       "      <td>James Cameron</td>\n",
       "      <td>Arnold Schwarzenegger, Linda Hamilton, Edward ...</td>\n",
       "    </tr>\n",
       "    <tr>\n",
       "      <th>72</th>\n",
       "      <td>Indiana Jones and the Last Crusade</td>\n",
       "      <td>1989</td>\n",
       "      <td>88</td>\n",
       "      <td>94</td>\n",
       "      <td>Steven Spielberg</td>\n",
       "      <td>Harrison Ford, Sean Connery, Denholm Elliott, ...</td>\n",
       "    </tr>\n",
       "    <tr>\n",
       "      <th>83</th>\n",
       "      <td>Oldboy</td>\n",
       "      <td>2003</td>\n",
       "      <td>82</td>\n",
       "      <td>94</td>\n",
       "      <td>Park Chan-wook</td>\n",
       "      <td>Choi Min-sik, Yoo Ji-tae, Kang Hye-jung, Ji Da...</td>\n",
       "    </tr>\n",
       "    <tr>\n",
       "      <th>102</th>\n",
       "      <td>The Dark Knight</td>\n",
       "      <td>2008</td>\n",
       "      <td>94</td>\n",
       "      <td>94</td>\n",
       "      <td>Christopher Nolan</td>\n",
       "      <td>Christian Bale, Heath Ledger, Aaron Eckhart, M...</td>\n",
       "    </tr>\n",
       "    <tr>\n",
       "      <th>130</th>\n",
       "      <td>Heat</td>\n",
       "      <td>1995</td>\n",
       "      <td>88</td>\n",
       "      <td>94</td>\n",
       "      <td>Michael Mann</td>\n",
       "      <td>Al Pacino, Robert De Niro, Val Kilmer, Jon Voight</td>\n",
       "    </tr>\n",
       "    <tr>\n",
       "      <th>134</th>\n",
       "      <td>Aliens</td>\n",
       "      <td>1986</td>\n",
       "      <td>98</td>\n",
       "      <td>94</td>\n",
       "      <td>James Cameron</td>\n",
       "      <td>Sigourney Weaver, Carrie Henn, Michael Biehn, ...</td>\n",
       "    </tr>\n",
       "    <tr>\n",
       "      <th>138</th>\n",
       "      <td>Die Hard</td>\n",
       "      <td>1988</td>\n",
       "      <td>94</td>\n",
       "      <td>94</td>\n",
       "      <td>John McTiernan</td>\n",
       "      <td>Bruce Willis, Alan Rickman, Bonnie Bedelia, Re...</td>\n",
       "    </tr>\n",
       "    <tr>\n",
       "      <th>98</th>\n",
       "      <td>The Bourne Identity</td>\n",
       "      <td>2002</td>\n",
       "      <td>84</td>\n",
       "      <td>93</td>\n",
       "      <td>Doug Liman</td>\n",
       "      <td>Matt Damon, Franka Potente, Chris Cooper, Cliv...</td>\n",
       "    </tr>\n",
       "  </tbody>\n",
       "</table>\n",
       "</div>"
      ],
      "text/plain": [
       "                            Movie Title  Year  Score TOMATOMETER  \\\n",
       "133             Raiders of the Lost Ark  1981                 96   \n",
       "121                    The Professional  1994                 74   \n",
       "137          Terminator 2: Judgment Day  1991                 93   \n",
       "72   Indiana Jones and the Last Crusade  1989                 88   \n",
       "83                               Oldboy  2003                 82   \n",
       "102                     The Dark Knight  2008                 94   \n",
       "130                                Heat  1995                 88   \n",
       "134                              Aliens  1986                 98   \n",
       "138                            Die Hard  1988                 94   \n",
       "98                  The Bourne Identity  2002                 84   \n",
       "\n",
       "     Score AUDIENCE          Directors  \\\n",
       "133              96   Steven Spielberg   \n",
       "121              95         Luc Besson   \n",
       "137              95      James Cameron   \n",
       "72               94   Steven Spielberg   \n",
       "83               94     Park Chan-wook   \n",
       "102              94  Christopher Nolan   \n",
       "130              94       Michael Mann   \n",
       "134              94      James Cameron   \n",
       "138              94     John McTiernan   \n",
       "98               93         Doug Liman   \n",
       "\n",
       "                                              Starring  \n",
       "133  Harrison Ford, Karen Allen, Paul Freeman, Wolf...  \n",
       "121  Jean Reno, Gary Oldman, Natalie Portman, Danny...  \n",
       "137  Arnold Schwarzenegger, Linda Hamilton, Edward ...  \n",
       "72   Harrison Ford, Sean Connery, Denholm Elliott, ...  \n",
       "83   Choi Min-sik, Yoo Ji-tae, Kang Hye-jung, Ji Da...  \n",
       "102  Christian Bale, Heath Ledger, Aaron Eckhart, M...  \n",
       "130  Al Pacino, Robert De Niro, Val Kilmer, Jon Voight  \n",
       "134  Sigourney Weaver, Carrie Henn, Michael Biehn, ...  \n",
       "138  Bruce Willis, Alan Rickman, Bonnie Bedelia, Re...  \n",
       "98   Matt Damon, Franka Potente, Chris Cooper, Cliv...  "
      ]
     },
     "execution_count": 38,
     "metadata": {},
     "output_type": "execute_result"
    }
   ],
   "source": [
    "all_data.nlargest(10, ['Score AUDIENCE'])"
   ]
  },
  {
   "cell_type": "markdown",
   "metadata": {},
   "source": [
    "## The worst movie in Score TOMATOMETER was ? "
   ]
  },
  {
   "cell_type": "code",
   "execution_count": 39,
   "metadata": {},
   "outputs": [
    {
     "data": {
      "text/html": [
       "<div>\n",
       "<style scoped>\n",
       "    .dataframe tbody tr th:only-of-type {\n",
       "        vertical-align: middle;\n",
       "    }\n",
       "\n",
       "    .dataframe tbody tr th {\n",
       "        vertical-align: top;\n",
       "    }\n",
       "\n",
       "    .dataframe thead th {\n",
       "        text-align: right;\n",
       "    }\n",
       "</style>\n",
       "<table border=\"1\" class=\"dataframe\">\n",
       "  <thead>\n",
       "    <tr style=\"text-align: right;\">\n",
       "      <th></th>\n",
       "      <th>Movie Title</th>\n",
       "      <th>Year</th>\n",
       "      <th>Score TOMATOMETER</th>\n",
       "      <th>Score AUDIENCE</th>\n",
       "      <th>Directors</th>\n",
       "      <th>Starring</th>\n",
       "    </tr>\n",
       "  </thead>\n",
       "  <tbody>\n",
       "    <tr>\n",
       "      <th>3</th>\n",
       "      <td>Road House</td>\n",
       "      <td>1989</td>\n",
       "      <td>39</td>\n",
       "      <td>66</td>\n",
       "      <td>Rowdy Herrington</td>\n",
       "      <td>Patrick Swayze, Kelly Lynch, Sam Elliott, Ben ...</td>\n",
       "    </tr>\n",
       "  </tbody>\n",
       "</table>\n",
       "</div>"
      ],
      "text/plain": [
       "  Movie Title  Year  Score TOMATOMETER  Score AUDIENCE         Directors  \\\n",
       "3  Road House  1989                 39              66  Rowdy Herrington   \n",
       "\n",
       "                                            Starring  \n",
       "3  Patrick Swayze, Kelly Lynch, Sam Elliott, Ben ...  "
      ]
     },
     "execution_count": 39,
     "metadata": {},
     "output_type": "execute_result"
    }
   ],
   "source": [
    "all_data.nsmallest(1, ['Score TOMATOMETER'])"
   ]
  },
  {
   "cell_type": "markdown",
   "metadata": {},
   "source": [
    "## The worst movie in Score AUDIENCE was ? "
   ]
  },
  {
   "cell_type": "code",
   "execution_count": 40,
   "metadata": {},
   "outputs": [
    {
     "data": {
      "text/html": [
       "<div>\n",
       "<style scoped>\n",
       "    .dataframe tbody tr th:only-of-type {\n",
       "        vertical-align: middle;\n",
       "    }\n",
       "\n",
       "    .dataframe tbody tr th {\n",
       "        vertical-align: top;\n",
       "    }\n",
       "\n",
       "    .dataframe thead th {\n",
       "        text-align: right;\n",
       "    }\n",
       "</style>\n",
       "<table border=\"1\" class=\"dataframe\">\n",
       "  <thead>\n",
       "    <tr style=\"text-align: right;\">\n",
       "      <th></th>\n",
       "      <th>Movie Title</th>\n",
       "      <th>Year</th>\n",
       "      <th>Score TOMATOMETER</th>\n",
       "      <th>Score AUDIENCE</th>\n",
       "      <th>Directors</th>\n",
       "      <th>Starring</th>\n",
       "    </tr>\n",
       "  </thead>\n",
       "  <tbody>\n",
       "    <tr>\n",
       "      <th>28</th>\n",
       "      <td>Code of Silence</td>\n",
       "      <td>1985</td>\n",
       "      <td>70</td>\n",
       "      <td>51</td>\n",
       "      <td>Andrew Davis</td>\n",
       "      <td>Chuck Norris, Henry Silva, Bert Remsen, Mike G...</td>\n",
       "    </tr>\n",
       "  </tbody>\n",
       "</table>\n",
       "</div>"
      ],
      "text/plain": [
       "        Movie Title  Year  Score TOMATOMETER  Score AUDIENCE     Directors  \\\n",
       "28  Code of Silence  1985                 70              51  Andrew Davis   \n",
       "\n",
       "                                             Starring  \n",
       "28  Chuck Norris, Henry Silva, Bert Remsen, Mike G...  "
      ]
     },
     "execution_count": 40,
     "metadata": {},
     "output_type": "execute_result"
    }
   ],
   "source": [
    "all_data.nsmallest(1, ['Score AUDIENCE'])"
   ]
  },
  {
   "cell_type": "markdown",
   "metadata": {},
   "source": [
    "## What is the year , they have published movies most ? "
   ]
  },
  {
   "cell_type": "code",
   "execution_count": 41,
   "metadata": {},
   "outputs": [
    {
     "data": {
      "text/plain": [
       "2017    7\n",
       "2014    7\n",
       "1986    6\n",
       "1995    5\n",
       "2010    5\n",
       "1994    5\n",
       "2004    5\n",
       "1992    5\n",
       "1997    5\n",
       "2008    5\n",
       "2003    4\n",
       "2015    4\n",
       "1993    4\n",
       "2002    4\n",
       "1985    4\n",
       "1987    4\n",
       "2011    4\n",
       "1989    4\n",
       "1971    4\n",
       "1988    3\n",
       "2012    3\n",
       "2018    3\n",
       "2000    3\n",
       "1981    3\n",
       "1990    3\n",
       "1996    3\n",
       "2006    3\n",
       "2007    3\n",
       "1998    3\n",
       "1999    2\n",
       "2005    2\n",
       "1991    2\n",
       "1984    2\n",
       "1964    1\n",
       "1973    1\n",
       "2019    1\n",
       "1972    1\n",
       "1976    1\n",
       "1968    1\n",
       "1978    1\n",
       "2001    1\n",
       "2016    1\n",
       "1979    1\n",
       "1982    1\n",
       "Name: Year, dtype: int64"
      ]
     },
     "execution_count": 41,
     "metadata": {},
     "output_type": "execute_result"
    }
   ],
   "source": [
    "all_data['Year'].value_counts()"
   ]
  },
  {
   "cell_type": "code",
   "execution_count": 42,
   "metadata": {},
   "outputs": [
    {
     "data": {
      "text/plain": [
       "0    2014\n",
       "1    2017\n",
       "dtype: int64"
      ]
     },
     "execution_count": 42,
     "metadata": {},
     "output_type": "execute_result"
    }
   ],
   "source": [
    "all_data['Year'].mode()"
   ]
  },
  {
   "cell_type": "code",
   "execution_count": 43,
   "metadata": {},
   "outputs": [
    {
     "data": {
      "text/plain": [
       "John Carpenter        4\n",
       "John Woo              4\n",
       "James Cameron         4\n",
       "Doug Liman            3\n",
       "Steven Spielberg      3\n",
       "                     ..\n",
       "Walter Hill           1\n",
       "Joss Whedon           1\n",
       "John Frankenheimer    1\n",
       "Timur Bekmambetov     1\n",
       "Andy Wachowski        1\n",
       "Name: Directors, Length: 100, dtype: int64"
      ]
     },
     "execution_count": 43,
     "metadata": {},
     "output_type": "execute_result"
    }
   ],
   "source": [
    "all_data['Directors'].value_counts()"
   ]
  },
  {
   "cell_type": "markdown",
   "metadata": {},
   "source": [
    "## What is the average of Score TOMATOMETER ? "
   ]
  },
  {
   "cell_type": "code",
   "execution_count": 44,
   "metadata": {},
   "outputs": [
    {
     "data": {
      "text/plain": [
       "count    140.000000\n",
       "mean      81.307143\n",
       "std       14.279278\n",
       "min       39.000000\n",
       "25%       70.750000\n",
       "50%       86.000000\n",
       "75%       93.000000\n",
       "max      100.000000\n",
       "Name: Score TOMATOMETER, dtype: float64"
      ]
     },
     "execution_count": 44,
     "metadata": {},
     "output_type": "execute_result"
    }
   ],
   "source": [
    "all_data['Score TOMATOMETER'].describe()"
   ]
  },
  {
   "cell_type": "markdown",
   "metadata": {},
   "source": [
    "## What is the average of Score  AUDIENCE\t ? "
   ]
  },
  {
   "cell_type": "code",
   "execution_count": 45,
   "metadata": {},
   "outputs": [
    {
     "data": {
      "text/plain": [
       "count    140.000000\n",
       "mean      80.942857\n",
       "std        9.966687\n",
       "min       51.000000\n",
       "25%       76.000000\n",
       "50%       83.000000\n",
       "75%       88.250000\n",
       "max       96.000000\n",
       "Name: Score AUDIENCE, dtype: float64"
      ]
     },
     "execution_count": 45,
     "metadata": {},
     "output_type": "execute_result"
    }
   ],
   "source": [
    "all_data['Score AUDIENCE'].describe()"
   ]
  },
  {
   "cell_type": "code",
   "execution_count": null,
   "metadata": {},
   "outputs": [],
   "source": []
  }
 ],
 "metadata": {
  "kernelspec": {
   "display_name": "Python 3 (ipykernel)",
   "language": "python",
   "name": "python3"
  },
  "language_info": {
   "codemirror_mode": {
    "name": "ipython",
    "version": 3
   },
   "file_extension": ".py",
   "mimetype": "text/x-python",
   "name": "python",
   "nbconvert_exporter": "python",
   "pygments_lexer": "ipython3",
   "version": "3.9.7"
  }
 },
 "nbformat": 4,
 "nbformat_minor": 2
}
